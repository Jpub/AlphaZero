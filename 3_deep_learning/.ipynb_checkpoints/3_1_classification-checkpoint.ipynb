{
 "cells": [
  {
   "cell_type": "code",
   "execution_count": 0,
   "metadata": {
    "colab": {},
    "colab_type": "code",
    "id": "cgT69wQ6cfxK"
   },
   "outputs": [],
   "source": [
    "# パッケージのインポート\n",
    "from tensorflow.keras.datasets import mnist\n",
    "from tensorflow.keras.layers import Activation, Dense, Dropout, InputLayer\n",
    "from tensorflow.keras.models import Sequential\n",
    "from tensorflow.keras.optimizers import SGD\n",
    "from tensorflow.keras.utils import to_categorical\n",
    "import numpy as np\n",
    "import matplotlib.pyplot as plt\n",
    "%matplotlib inline"
   ]
  },
  {
   "cell_type": "code",
   "execution_count": 0,
   "metadata": {
    "colab": {
     "base_uri": "https://localhost:8080/",
     "height": 51
    },
    "colab_type": "code",
    "executionInfo": {
     "elapsed": 2274,
     "status": "ok",
     "timestamp": 1552972876614,
     "user": {
      "displayName": "Hidekazu Furukawa",
      "photoUrl": "https://lh6.googleusercontent.com/-k_ANWEaFIwk/AAAAAAAAAAI/AAAAAAAAHoA/UsKZpxAKtWs/s64/photo.jpg",
      "userId": "05645491730477251378"
     },
     "user_tz": -540
    },
    "id": "7P7GT_qjcfxQ",
    "outputId": "afcd15a2-6029-4ca2-cbe1-15dba162401f"
   },
   "outputs": [
    {
     "name": "stdout",
     "output_type": "stream",
     "text": [
      "Downloading data from https://storage.googleapis.com/tensorflow/tf-keras-datasets/mnist.npz\n",
      "11493376/11490434 [==============================] - 0s 0us/step\n"
     ]
    }
   ],
   "source": [
    "# データセットの準備\n",
    "(train_images, train_labels), (test_images, test_labels) = mnist.load_data()"
   ]
  },
  {
   "cell_type": "code",
   "execution_count": 0,
   "metadata": {
    "colab": {
     "base_uri": "https://localhost:8080/",
     "height": 85
    },
    "colab_type": "code",
    "executionInfo": {
     "elapsed": 2264,
     "status": "ok",
     "timestamp": 1552972876615,
     "user": {
      "displayName": "Hidekazu Furukawa",
      "photoUrl": "https://lh6.googleusercontent.com/-k_ANWEaFIwk/AAAAAAAAAAI/AAAAAAAAHoA/UsKZpxAKtWs/s64/photo.jpg",
      "userId": "05645491730477251378"
     },
     "user_tz": -540
    },
    "id": "adSFT4dGcfxS",
    "outputId": "69aaf1e5-8fbe-4ac1-d653-5c6cd890c1df"
   },
   "outputs": [
    {
     "name": "stdout",
     "output_type": "stream",
     "text": [
      "(60000, 28, 28)\n",
      "(60000,)\n",
      "(10000, 28, 28)\n",
      "(10000,)\n"
     ]
    }
   ],
   "source": [
    "# データセットのシェイプの確認\n",
    "print(train_images.shape)\n",
    "print(train_labels.shape)\n",
    "print(test_images.shape)\n",
    "print(test_labels.shape)"
   ]
  },
  {
   "cell_type": "code",
   "execution_count": 0,
   "metadata": {
    "colab": {
     "base_uri": "https://localhost:8080/",
     "height": 80
    },
    "colab_type": "code",
    "executionInfo": {
     "elapsed": 3346,
     "status": "ok",
     "timestamp": 1552972877709,
     "user": {
      "displayName": "Hidekazu Furukawa",
      "photoUrl": "https://lh6.googleusercontent.com/-k_ANWEaFIwk/AAAAAAAAAAI/AAAAAAAAHoA/UsKZpxAKtWs/s64/photo.jpg",
      "userId": "05645491730477251378"
     },
     "user_tz": -540
    },
    "id": "-bajeUc2cfxU",
    "outputId": "846bbecc-f07c-4dce-a98e-3d0143321528"
   },
   "outputs": [
    {
     "data": {
      "image/png": "[encoded data removed]",
      "text/plain": [
       "<Figure size 432x288 with 10 Axes>"
      ]
     },
     "metadata": {
      "tags": []
     },
     "output_type": "display_data"
    }
   ],
   "source": [
    "# データセットの画像の確認\n",
    "for i in range(10):\n",
    "    plt.subplot(1, 10, i+1)\n",
    "    plt.imshow(train_images[i], 'gray')\n",
    "plt.show()"
   ]
  },
  {
   "cell_type": "code",
   "execution_count": 0,
   "metadata": {
    "colab": {
     "base_uri": "https://localhost:8080/",
     "height": 34
    },
    "colab_type": "code",
    "executionInfo": {
     "elapsed": 3337,
     "status": "ok",
     "timestamp": 1552972877711,
     "user": {
      "displayName": "Hidekazu Furukawa",
      "photoUrl": "https://lh6.googleusercontent.com/-k_ANWEaFIwk/AAAAAAAAAAI/AAAAAAAAHoA/UsKZpxAKtWs/s64/photo.jpg",
      "userId": "05645491730477251378"
     },
     "user_tz": -540
    },
    "id": "2vqNwlFUcfxX",
    "outputId": "e9e624d4-6630-4730-804c-274d2ec3b2cb"
   },
   "outputs": [
    {
     "name": "stdout",
     "output_type": "stream",
     "text": [
      "[5 0 4 1 9 2 1 3 1 4]\n"
     ]
    }
   ],
   "source": [
    "# データセットのラベルの確認\n",
    "print(train_labels[0:10])"
   ]
  },
  {
   "cell_type": "code",
   "execution_count": 0,
   "metadata": {
    "colab": {
     "base_uri": "https://localhost:8080/",
     "height": 51
    },
    "colab_type": "code",
    "executionInfo": {
     "elapsed": 3333,
     "status": "ok",
     "timestamp": 1552972877712,
     "user": {
      "displayName": "Hidekazu Furukawa",
      "photoUrl": "https://lh6.googleusercontent.com/-k_ANWEaFIwk/AAAAAAAAAAI/AAAAAAAAHoA/UsKZpxAKtWs/s64/photo.jpg",
      "userId": "05645491730477251378"
     },
     "user_tz": -540
    },
    "id": "6Pop1amkcfxZ",
    "outputId": "1a685510-70e8-462f-f21e-3a40d6701bfd"
   },
   "outputs": [
    {
     "name": "stdout",
     "output_type": "stream",
     "text": [
      "(60000, 784)\n",
      "(10000, 784)\n"
     ]
    }
   ],
   "source": [
    "# データセットの画像の前処理\n",
    "train_images = train_images.reshape((train_images.shape[0], 784))\n",
    "test_images = test_images.reshape((test_images.shape[0], 784))\n",
    "\n",
    "# データセットの画像の前処理後のシェイプの確認\n",
    "print(train_images.shape)\n",
    "print(test_images.shape)"
   ]
  },
  {
   "cell_type": "code",
   "execution_count": 0,
   "metadata": {
    "colab": {
     "base_uri": "https://localhost:8080/",
     "height": 51
    },
    "colab_type": "code",
    "executionInfo": {
     "elapsed": 3327,
     "status": "ok",
     "timestamp": 1552972877713,
     "user": {
      "displayName": "Hidekazu Furukawa",
      "photoUrl": "https://lh6.googleusercontent.com/-k_ANWEaFIwk/AAAAAAAAAAI/AAAAAAAAHoA/UsKZpxAKtWs/s64/photo.jpg",
      "userId": "05645491730477251378"
     },
     "user_tz": -540
    },
    "id": "6RgG6gGEcfxc",
    "outputId": "c87fcc68-4997-497c-fe5b-fd2887197836"
   },
   "outputs": [
    {
     "name": "stdout",
     "output_type": "stream",
     "text": [
      "(60000, 10)\n",
      "(10000, 10)\n"
     ]
    }
   ],
   "source": [
    "# データセットのラベルの前処理\n",
    "train_labels = to_categorical(train_labels)\n",
    "test_labels = to_categorical(test_labels)\n",
    "\n",
    "# データセットのラベルの前処理後のシェイプの確認\n",
    "print(train_labels.shape)\n",
    "print(test_labels.shape)"
   ]
  },
  {
   "cell_type": "code",
   "execution_count": 0,
   "metadata": {
    "colab": {
     "base_uri": "https://localhost:8080/",
     "height": 139
    },
    "colab_type": "code",
    "executionInfo": {
     "elapsed": 3317,
     "status": "ok",
     "timestamp": 1552972877714,
     "user": {
      "displayName": "Hidekazu Furukawa",
      "photoUrl": "https://lh6.googleusercontent.com/-k_ANWEaFIwk/AAAAAAAAAAI/AAAAAAAAHoA/UsKZpxAKtWs/s64/photo.jpg",
      "userId": "05645491730477251378"
     },
     "user_tz": -540
    },
    "id": "iHOr634gcfxf",
    "outputId": "92fd9fca-9ebf-403e-e6cb-8055fb997d73"
   },
   "outputs": [
    {
     "name": "stdout",
     "output_type": "stream",
     "text": [
      "WARNING:tensorflow:From /usr/local/lib/python3.6/dist-packages/tensorflow/python/ops/resource_variable_ops.py:435: colocate_with (from tensorflow.python.framework.ops) is deprecated and will be removed in a future version.\n",
      "Instructions for updating:\n",
      "Colocations handled automatically by placer.\n",
      "WARNING:tensorflow:From /usr/local/lib/python3.6/dist-packages/tensorflow/python/keras/layers/core.py:143: calling dropout (from tensorflow.python.ops.nn_ops) with keep_prob is deprecated and will be removed in a future version.\n",
      "Instructions for updating:\n",
      "Please use `rate` instead of `keep_prob`. Rate should be set to `rate = 1 - keep_prob`.\n"
     ]
    }
   ],
   "source": [
    "# モデルの作成\n",
    "model = Sequential()\n",
    "model.add(InputLayer(input_shape=(784,)))\n",
    "model.add(Dense(256, activation='sigmoid'))\n",
    "model.add(Dense(128, activation='sigmoid'))\n",
    "model.add(Dropout(rate=0.5))\n",
    "model.add(Dense(10, activation='softmax'))"
   ]
  },
  {
   "cell_type": "code",
   "execution_count": 0,
   "metadata": {
    "colab": {},
    "colab_type": "code",
    "id": "vPsmHR42cfxh"
   },
   "outputs": [],
   "source": [
    "# コンパイル\n",
    "model.compile(loss='categorical_crossentropy', optimizer=SGD(lr=0.1), metrics=['acc'])"
   ]
  },
  {
   "cell_type": "code",
   "execution_count": 0,
   "metadata": {
    "colab": {
     "base_uri": "https://localhost:8080/",
     "height": 275
    },
    "colab_type": "code",
    "executionInfo": {
     "elapsed": 12813,
     "status": "ok",
     "timestamp": 1552972887217,
     "user": {
      "displayName": "Hidekazu Furukawa",
      "photoUrl": "https://lh6.googleusercontent.com/-k_ANWEaFIwk/AAAAAAAAAAI/AAAAAAAAHoA/UsKZpxAKtWs/s64/photo.jpg",
      "userId": "05645491730477251378"
     },
     "user_tz": -540
    },
    "id": "rXVq3Hwycfxj",
    "outputId": "8635f6cc-e4f2-4890-f798-511c2e3e7307"
   },
   "outputs": [
    {
     "name": "stdout",
     "output_type": "stream",
     "text": [
      "Train on 48000 samples, validate on 12000 samples\n",
      "WARNING:tensorflow:From /usr/local/lib/python3.6/dist-packages/tensorflow/python/ops/math_ops.py:3066: to_int32 (from tensorflow.python.ops.math_ops) is deprecated and will be removed in a future version.\n",
      "Instructions for updating:\n",
      "Use tf.cast instead.\n",
      "Epoch 1/5\n",
      "48000/48000 [==============================] - 2s 41us/sample - loss: 1.6756 - acc: 0.4588 - val_loss: 0.9655 - val_acc: 0.8497\n",
      "Epoch 2/5\n",
      "48000/48000 [==============================] - 2s 36us/sample - loss: 0.9208 - acc: 0.7379 - val_loss: 0.5923 - val_acc: 0.8821\n",
      "Epoch 3/5\n",
      "48000/48000 [==============================] - 2s 36us/sample - loss: 0.6697 - acc: 0.8176 - val_loss: 0.4461 - val_acc: 0.8982\n",
      "Epoch 4/5\n",
      "48000/48000 [==============================] - 2s 36us/sample - loss: 0.5512 - acc: 0.8490 - val_loss: 0.3761 - val_acc: 0.9077\n",
      "Epoch 5/5\n",
      "48000/48000 [==============================] - 2s 36us/sample - loss: 0.4859 - acc: 0.8653 - val_loss: 0.3340 - val_acc: 0.9120\n"
     ]
    }
   ],
   "source": [
    "# 学習\n",
    "history = model.fit(train_images, train_labels, batch_size=500, \n",
    "    epochs=5, validation_split=0.2)"
   ]
  },
  {
   "cell_type": "code",
   "execution_count": 0,
   "metadata": {
    "colab": {
     "base_uri": "https://localhost:8080/",
     "height": 279
    },
    "colab_type": "code",
    "executionInfo": {
     "elapsed": 13161,
     "status": "ok",
     "timestamp": 1552972887578,
     "user": {
      "displayName": "Hidekazu Furukawa",
      "photoUrl": "https://lh6.googleusercontent.com/-k_ANWEaFIwk/AAAAAAAAAAI/AAAAAAAAHoA/UsKZpxAKtWs/s64/photo.jpg",
      "userId": "05645491730477251378"
     },
     "user_tz": -540
    },
    "id": "ATFYEN0xcfxm",
    "outputId": "1b39bda1-0da0-4f9c-ffa7-5f4891e85b0b"
   },
   "outputs": [
    {
     "data": {
      "image/png": "[encoded data removed]",
      "text/plain": [
       "<Figure size 432x288 with 1 Axes>"
      ]
     },
     "metadata": {
      "tags": []
     },
     "output_type": "display_data"
    }
   ],
   "source": [
    "# グラフの表示\n",
    "plt.plot(history.history['acc'], label='acc')\n",
    "plt.plot(history.history['val_acc'], label='val_acc')\n",
    "plt.ylabel('accuracy')\n",
    "plt.xlabel('epoch')\n",
    "plt.legend(loc='best')\n",
    "plt.show()"
   ]
  },
  {
   "cell_type": "code",
   "execution_count": 0,
   "metadata": {
    "colab": {
     "base_uri": "https://localhost:8080/",
     "height": 68
    },
    "colab_type": "code",
    "executionInfo": {
     "elapsed": 13654,
     "status": "ok",
     "timestamp": 1552972888077,
     "user": {
      "displayName": "Hidekazu Furukawa",
      "photoUrl": "https://lh6.googleusercontent.com/-k_ANWEaFIwk/AAAAAAAAAAI/AAAAAAAAHoA/UsKZpxAKtWs/s64/photo.jpg",
      "userId": "05645491730477251378"
     },
     "user_tz": -540
    },
    "id": "ywNkSnu2cfxo",
    "outputId": "5253aa3b-b8b2-4993-b368-1898b87ca800"
   },
   "outputs": [
    {
     "name": "stdout",
     "output_type": "stream",
     "text": [
      "10000/10000 [==============================] - 0s 50us/sample - loss: 0.3400 - acc: 0.9118\n",
      "loss: 0.340\n",
      "acc: 0.912\n"
     ]
    }
   ],
   "source": [
    "# 評価\n",
    "test_loss, test_acc = model.evaluate(test_images, test_labels)\n",
    "print('loss: {:.3f}\\nacc: {:.3f}'.format(test_loss, test_acc ))"
   ]
  },
  {
   "cell_type": "code",
   "execution_count": 0,
   "metadata": {
    "colab": {
     "base_uri": "https://localhost:8080/",
     "height": 97
    },
    "colab_type": "code",
    "executionInfo": {
     "elapsed": 15053,
     "status": "ok",
     "timestamp": 1552972889483,
     "user": {
      "displayName": "Hidekazu Furukawa",
      "photoUrl": "https://lh6.googleusercontent.com/-k_ANWEaFIwk/AAAAAAAAAAI/AAAAAAAAHoA/UsKZpxAKtWs/s64/photo.jpg",
      "userId": "05645491730477251378"
     },
     "user_tz": -540
    },
    "id": "Ppy7JafUcfxq",
    "outputId": "2216f1e5-f1f7-4d3a-cf19-153e01928159"
   },
   "outputs": [
    {
     "data": {
      "image/png": "[encoded data removed]",
      "text/plain": [
       "<Figure size 432x288 with 10 Axes>"
      ]
     },
     "metadata": {
      "tags": []
     },
     "output_type": "display_data"
    },
    {
     "name": "stdout",
     "output_type": "stream",
     "text": [
      "[7 2 1 0 4 1 4 9 6 9]\n"
     ]
    }
   ],
   "source": [
    "# 推論する画像の表示\n",
    "for i in range(10):\n",
    "    plt.subplot(1, 10, i+1)\n",
    "    plt.imshow(test_images[i].reshape((28, 28)), 'gray')\n",
    "plt.show()\n",
    "\n",
    "# 推論したラベルの表示\n",
    "test_predictions = model.predict(test_images[0:10])\n",
    "test_predictions = np.argmax(test_predictions, axis=1)\n",
    "print(test_predictions)"
   ]
  }
 ],
 "metadata": {
  "colab": {
   "collapsed_sections": [],
   "name": "3_1_classification.ipynb",
   "provenance": [],
   "version": "0.3.2"
  },
  "kernelspec": {
   "display_name": "Python 3",
   "language": "python",
   "name": "python3"
  },
  "language_info": {
   "codemirror_mode": {
    "name": "ipython",
    "version": 3
   },
   "file_extension": ".py",
   "mimetype": "text/x-python",
   "name": "python",
   "nbconvert_exporter": "python",
   "pygments_lexer": "ipython3",
   "version": "3.7.1"
  }
 },
 "nbformat": 4,
 "nbformat_minor": 1
}
